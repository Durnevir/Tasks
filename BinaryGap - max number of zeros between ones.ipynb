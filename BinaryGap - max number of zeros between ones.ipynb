{
 "cells": [
  {
   "cell_type": "markdown",
   "metadata": {},
   "source": [
    "Определяем максимальное количество нулей подряд в двоичной форме представления числа"
   ]
  },
  {
   "cell_type": "code",
   "execution_count": 3,
   "metadata": {},
   "outputs": [
    {
     "name": "stdout",
     "output_type": "stream",
     "text": [
      "Integer numer is  962\n",
      "Binary number =  1111000010\n",
      "now counter is  1\n",
      "binary gap is  4\n"
     ]
    }
   ],
   "source": [
    "import random\n",
    "#dir(random)\n",
    "#help(random.randrange)\n",
    "\n",
    "R = random.randrange(1, 1000, 1)\n",
    "print 'Integer numer is ', R\n",
    "Rstr = str(bin(R)) #.split()\n",
    "Rstr = Rstr[2:]\n",
    "print 'Binary number = ', Rstr\n",
    "BinGap = 0\n",
    "BinGapCounter =[]\n",
    "\n",
    "for i in range(len(Rstr)):\n",
    "    if Rstr[i] == \"0\":\n",
    "        BinGap += 1\n",
    "    elif Rstr[i] == \"1\":\n",
    "        BinGapCounter.append(BinGap)\n",
    "        BinGap = 0\n",
    "    \n",
    "BinGapCounter.sort(cmp=None, key=None, reverse=True)\n",
    "\n",
    "print 'binary gap is ', BinGapCounter[0]"
   ]
  }
 ],
 "metadata": {
  "kernelspec": {
   "display_name": "Python 2",
   "language": "python",
   "name": "python2"
  },
  "language_info": {
   "codemirror_mode": {
    "name": "ipython",
    "version": 2
   },
   "file_extension": ".py",
   "mimetype": "text/x-python",
   "name": "python",
   "nbconvert_exporter": "python",
   "pygments_lexer": "ipython2",
   "version": "2.7.13"
  }
 },
 "nbformat": 4,
 "nbformat_minor": 2
}
